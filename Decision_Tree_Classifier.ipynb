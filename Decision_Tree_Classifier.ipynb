{
  "nbformat": 4,
  "nbformat_minor": 0,
  "metadata": {
    "colab": {
      "provenance": [],
      "authorship_tag": "ABX9TyPMMZIsY0ockCfE4TxaJG7h",
      "include_colab_link": true
    },
    "kernelspec": {
      "name": "python3",
      "display_name": "Python 3"
    },
    "language_info": {
      "name": "python"
    }
  },
  "cells": [
    {
      "cell_type": "markdown",
      "metadata": {
        "id": "view-in-github",
        "colab_type": "text"
      },
      "source": [
        "<a href=\"https://colab.research.google.com/github/RajulapatiKiransri/DecisionTreeClassifier/blob/decision_tree_classifier/Decision_Tree_Classifier.ipynb\" target=\"_parent\"><img src=\"https://colab.research.google.com/assets/colab-badge.svg\" alt=\"Open In Colab\"/></a>"
      ]
    },
    {
      "cell_type": "code",
      "execution_count": null,
      "metadata": {
        "colab": {
          "base_uri": "https://localhost:8080/"
        },
        "id": "7z_wR1vvbPuD",
        "outputId": "2c5a396f-7832-4401-b3bc-ffd66ac28da7"
      },
      "outputs": [
        {
          "output_type": "stream",
          "name": "stdout",
          "text": [
            "Train data accuracy: 1.0\n",
            "Test data accuracy: 0.9558823529411765\n"
          ]
        }
      ],
      "source": [
        "import pandas as pd\n",
        "import numpy as np\n",
        "from sklearn.datasets import load_iris\n",
        "data = load_iris()\n",
        "x = data.data\n",
        "y = data.target\n",
        "from sklearn.model_selection import train_test_split\n",
        "from sklearn.metrics import accuracy_score\n",
        "x_train,x_test,y_train,y_test=train_test_split(x,y,random_state=30,test_size=0.45)\n",
        "from sklearn.tree import DecisionTreeClassifier\n",
        "clf=DecisionTreeClassifier()\n",
        "clf.fit(x_train,y_train)\n",
        "y_pred=clf.predict(x_test)\n",
        "print(\"Train data accuracy:\",accuracy_score(y_true = y_train,y_pred = clf.predict(x_train)))\n",
        "print(\"Test data accuracy:\",accuracy_score(y_true = y_test,y_pred = y_pred))\n"
      ]
    },
    {
      "cell_type": "code",
      "source": [
        "from sklearn.metrics import classification_report,confusion_matrix\n",
        "print(confusion_matrix(y_test,y_pred))\n",
        "print(classification_report(y_test,y_pred))"
      ],
      "metadata": {
        "colab": {
          "base_uri": "https://localhost:8080/"
        },
        "id": "zHukql72ecY1",
        "outputId": "a2c0bc1c-c512-4ee4-9002-0ad90a152cdb"
      },
      "execution_count": null,
      "outputs": [
        {
          "output_type": "stream",
          "name": "stdout",
          "text": [
            "[[19  0  0]\n",
            " [ 0 24  2]\n",
            " [ 0  1 22]]\n",
            "              precision    recall  f1-score   support\n",
            "\n",
            "           0       1.00      1.00      1.00        19\n",
            "           1       0.96      0.92      0.94        26\n",
            "           2       0.92      0.96      0.94        23\n",
            "\n",
            "    accuracy                           0.96        68\n",
            "   macro avg       0.96      0.96      0.96        68\n",
            "weighted avg       0.96      0.96      0.96        68\n",
            "\n"
          ]
        }
      ]
    }
  ]
}